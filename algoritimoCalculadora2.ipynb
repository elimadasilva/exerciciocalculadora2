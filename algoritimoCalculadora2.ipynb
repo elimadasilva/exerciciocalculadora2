{
  "nbformat": 4,
  "nbformat_minor": 0,
  "metadata": {
    "colab": {
      "provenance": [],
      "authorship_tag": "ABX9TyOQeGHlzi4fSgCtTVPt97zL",
      "include_colab_link": true
    },
    "kernelspec": {
      "name": "python3",
      "display_name": "Python 3"
    },
    "language_info": {
      "name": "python"
    }
  },
  "cells": [
    {
      "cell_type": "markdown",
      "metadata": {
        "id": "view-in-github",
        "colab_type": "text"
      },
      "source": [
        "<a href=\"https://colab.research.google.com/github/elimadasilva/exerciciocalculadora2/blob/main/algoritimoCalculadora2.ipynb\" target=\"_parent\"><img src=\"https://colab.research.google.com/assets/colab-badge.svg\" alt=\"Open In Colab\"/></a>"
      ]
    },
    {
      "cell_type": "code",
      "source": [
        "#INSTRUÇÕES DO PROJETO\n",
        "#Faça uma função calculadora que os números e as operações serão feitas pelo usuário.\n",
        "#O código deve ficar rodando infinitamente até que o usuário escolha a opção de sair.\n",
        "#No início, o programa mostrará a seguinte lista de operações:\n",
        "\n",
        "#1: Soma\n",
        "#2: Subtração\n",
        "#3: Multiplicação\n",
        "#4: Divisão\n",
        "#0: Sair\n",
        "\n",
        "#Digite o número para a operação correspondente e caso o usuário introduza qualquer outro,\n",
        "#o sistema deve mostrar a mensagem “Essa opção não existe” e voltar ao menu de opções.\n",
        "#Após a seleção, o sistema deve pedir para o usuário inserir o primeiro e segundo valor,\n",
        "#um de cada. Depois precisa executar a operação e mostrar o resultado na tela.\n",
        "#Quando o usuário escolher a opção “Sair”, o sistema irá parar.\n",
        "#É necessário que o sistema mostre as opções sempre que finalizar uma operação e mostrar o resultado.\n",
        "#Trabalhe esse código em seu IDE, suba ele para sua conta no GitHub e compartilhe o link desse projeto\n",
        "#no campo ao lado para que outros desenvolvedores possam analisá-lo.\n",
        "\n",
        "#Função\n",
        "def calculadora(num1,num2,operacao):\n",
        "\n",
        "      if(operacao == 1):\n",
        "        return  num1+num2\n",
        "      elif(operacao == 2):\n",
        "        return  num1-num2\n",
        "      elif(operacao == 3):\n",
        "        return  num1*num2\n",
        "      elif(operacao == 4):\n",
        "        return  num1/num2\n",
        " #Main\n",
        "\n",
        "continua = True\n",
        "while (continua == True):\n",
        "  print(\"Bem-vindo a Calculadora on-line:\\n (1)SOMA\\n (2)SUBTRAÇÃO\\n (3)MULTIPLICAÇÃO\\n (4)DIVISÃO\\n (0)SAIR\\n\\n Digite o número correspondente a operação desejada:\")\n",
        "  operacao = int(input())\n",
        "\n",
        "  if(operacao<5) and (operacao != 0):\n",
        "    num1 = float(input(\"Digite o primeiro número: \"))\n",
        "    num2 = float(input(\"Digite o segundo número: \"))\n",
        "\n",
        "    resultado = calculadora(num1,num2,operacao)\n",
        "    print(\"Resultado = \", resultado,\"\\n\")\n",
        "\n",
        "\n",
        "  elif(operacao == 0):\n",
        "    print(\"VOCÊ ESCOLHEU A OPÇÃO SAIR, ATÉ A PRÓXIMA!\")\n",
        "    continua = False\n",
        "\n",
        "  else:\n",
        "\n",
        "    print(\"\\n ESSA OPÇÃO NÃO EXISTE, TENTE NOVAMENTE!\\n\")\n",
        ""
      ],
      "metadata": {
        "colab": {
          "base_uri": "https://localhost:8080/"
        },
        "id": "8VBEBkTJ7R7r",
        "outputId": "489117bb-ddb3-42b2-cd5f-17b1b961d777"
      },
      "execution_count": 36,
      "outputs": [
        {
          "output_type": "stream",
          "name": "stdout",
          "text": [
            "Bem-vindo a Calculadora on-line:\n",
            " (1)SOMA\n",
            " (2)SUBTRAÇÃO\n",
            " (3)MULTIPLICAÇÃO\n",
            " (4)DIVISÃO\n",
            " (0)SAIR\n",
            "\n",
            " Digite o número correspondente a operação desejada:\n",
            "7\n",
            "\n",
            " ESSA OPÇÃO NÃO EXISTE, TENTE NOVAMENTE!\n",
            "\n",
            "Bem-vindo a Calculadora on-line:\n",
            " (1)SOMA\n",
            " (2)SUBTRAÇÃO\n",
            " (3)MULTIPLICAÇÃO\n",
            " (4)DIVISÃO\n",
            " (0)SAIR\n",
            "\n",
            " Digite o número correspondente a operação desejada:\n",
            "4\n",
            "Digite o primeiro número: 1\n",
            "Digite o segundo número: 2\n",
            "Resultado =  0.5 \n",
            "\n",
            "Bem-vindo a Calculadora on-line:\n",
            " (1)SOMA\n",
            " (2)SUBTRAÇÃO\n",
            " (3)MULTIPLICAÇÃO\n",
            " (4)DIVISÃO\n",
            " (0)SAIR\n",
            "\n",
            " Digite o número correspondente a operação desejada:\n",
            "0\n",
            "VOCÊ ESCOLHEU A OPÇÃO SAIR, ATÉ A PRÓXIMA!\n"
          ]
        }
      ]
    }
  ]
}